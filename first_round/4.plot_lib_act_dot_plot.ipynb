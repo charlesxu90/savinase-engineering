{
 "cells": [
  {
   "cell_type": "code",
   "execution_count": 1,
   "id": "71a6858f",
   "metadata": {},
   "outputs": [
    {
     "name": "stdout",
     "output_type": "stream",
     "text": [
      "/home/xux/Desktop/Enzyme_design/Savi_design/Savinase-engineering\n"
     ]
    }
   ],
   "source": [
    "%load_ext autoreload\n",
    "%autoreload 2\n",
    "%cd /home/xux/Desktop/Enzyme_design/Savi_design/Savinase-engineering"
   ]
  },
  {
   "cell_type": "markdown",
   "id": "1139d792",
   "metadata": {},
   "source": [
    "# Plot R1 activity data"
   ]
  },
  {
   "cell_type": "code",
   "execution_count": 2,
   "id": "f0b9be84",
   "metadata": {},
   "outputs": [
    {
     "name": "stdout",
     "output_type": "stream",
     "text": [
      "2396\n"
     ]
    }
   ],
   "source": [
    "import pandas as pd\n",
    "\n",
    "df_R1 =  pd.read_excel('data/round1/wet-lab/mcs_uniq_join_duplicated-yh.xlsx', sheet_name='mcs_uniq_join_duplicated')\n",
    "print(len(df_R1))"
   ]
  },
  {
   "cell_type": "code",
   "execution_count": 3,
   "id": "8fcc349e",
   "metadata": {},
   "outputs": [
    {
     "name": "stdout",
     "output_type": "stream",
     "text": [
      "518 525 522 475 356\n",
      "[0.8185328185328186, 0.8304761904761905, 0.7816091954022989, 0.6905263157894737]\n"
     ]
    },
    {
     "data": {
      "text/html": [
       "<div>\n",
       "<style scoped>\n",
       "    .dataframe tbody tr th:only-of-type {\n",
       "        vertical-align: middle;\n",
       "    }\n",
       "\n",
       "    .dataframe tbody tr th {\n",
       "        vertical-align: top;\n",
       "    }\n",
       "\n",
       "    .dataframe thead th {\n",
       "        text-align: right;\n",
       "    }\n",
       "</style>\n",
       "<table border=\"1\" class=\"dataframe\">\n",
       "  <thead>\n",
       "    <tr style=\"text-align: right;\">\n",
       "      <th></th>\n",
       "      <th>id</th>\n",
       "      <th>library</th>\n",
       "      <th>chip_loc_id</th>\n",
       "      <th>chip_loc</th>\n",
       "      <th>sequence</th>\n",
       "      <th>savinase_mutations</th>\n",
       "      <th>n_muts</th>\n",
       "      <th>activity</th>\n",
       "      <th>is_in_mc</th>\n",
       "      <th>mut_not_in</th>\n",
       "      <th>is_dup</th>\n",
       "      <th>mean_activity</th>\n",
       "      <th>n_dup</th>\n",
       "      <th>act_max</th>\n",
       "      <th>act_min</th>\n",
       "      <th>act_min_max_diff</th>\n",
       "      <th>dup_locs</th>\n",
       "      <th>dup_activities</th>\n",
       "      <th>Source</th>\n",
       "    </tr>\n",
       "  </thead>\n",
       "  <tbody>\n",
       "    <tr>\n",
       "      <th>2384</th>\n",
       "      <td>MC1-12-88-MP-F2_H04</td>\n",
       "      <td>MC1</td>\n",
       "      <td>MC1-12-88</td>\n",
       "      <td>MC1-12-H-04</td>\n",
       "      <td>AQSVPWGISRVQAPAAHNRGLTGSGVKVAVLGTGISTHPDLNIRGG...</td>\n",
       "      <td>D32G/A98S/P131S/F189S/Y209L/T213Y/N218S/A223S/...</td>\n",
       "      <td>10</td>\n",
       "      <td>0.000000</td>\n",
       "      <td>0</td>\n",
       "      <td>D32G/F189S</td>\n",
       "      <td>0</td>\n",
       "      <td>NaN</td>\n",
       "      <td>NaN</td>\n",
       "      <td>NaN</td>\n",
       "      <td>NaN</td>\n",
       "      <td>NaN</td>\n",
       "      <td>NaN</td>\n",
       "      <td>NaN</td>\n",
       "      <td>R1-L1</td>\n",
       "    </tr>\n",
       "    <tr>\n",
       "      <th>2383</th>\n",
       "      <td>MC1-12-87-MP-F2_H03</td>\n",
       "      <td>MC1</td>\n",
       "      <td>MC1-12-87</td>\n",
       "      <td>MC1-12-H-03</td>\n",
       "      <td>AQVVPWGISRVQPPAAHNRGLTGSGVKVAVLDTGISTHPDLRIRGG...</td>\n",
       "      <td>S3V/A13P/N43R/N76D/V84L/A98G/G127R/P131S/S166N...</td>\n",
       "      <td>19</td>\n",
       "      <td>0.000000</td>\n",
       "      <td>0</td>\n",
       "      <td>A13P/V84L/G127R/S166N/Q191H/S216I/G219N/G229C/...</td>\n",
       "      <td>0</td>\n",
       "      <td>NaN</td>\n",
       "      <td>NaN</td>\n",
       "      <td>NaN</td>\n",
       "      <td>NaN</td>\n",
       "      <td>NaN</td>\n",
       "      <td>NaN</td>\n",
       "      <td>NaN</td>\n",
       "      <td>R1-L1</td>\n",
       "    </tr>\n",
       "    <tr>\n",
       "      <th>2357</th>\n",
       "      <td>MC1-5-85-MP-F2_H01</td>\n",
       "      <td>MC1</td>\n",
       "      <td>MC1-5-85</td>\n",
       "      <td>MC1-5-H-01</td>\n",
       "      <td>AQCVPWGISRVQAPAAHNRGLTGSGVKVAVLDTGISTHPDLRIRGG...</td>\n",
       "      <td>S3C/N43R/A98K/P131G/G202S/Q206L/Y209L/T213Y/N2...</td>\n",
       "      <td>10</td>\n",
       "      <td>0.094801</td>\n",
       "      <td>0</td>\n",
       "      <td>G202S</td>\n",
       "      <td>0</td>\n",
       "      <td>NaN</td>\n",
       "      <td>NaN</td>\n",
       "      <td>NaN</td>\n",
       "      <td>NaN</td>\n",
       "      <td>NaN</td>\n",
       "      <td>NaN</td>\n",
       "      <td>NaN</td>\n",
       "      <td>R1-L1</td>\n",
       "    </tr>\n",
       "  </tbody>\n",
       "</table>\n",
       "</div>"
      ],
      "text/plain": [
       "                       id library chip_loc_id     chip_loc  \\\n",
       "2384  MC1-12-88-MP-F2_H04     MC1   MC1-12-88  MC1-12-H-04   \n",
       "2383  MC1-12-87-MP-F2_H03     MC1   MC1-12-87  MC1-12-H-03   \n",
       "2357   MC1-5-85-MP-F2_H01     MC1    MC1-5-85   MC1-5-H-01   \n",
       "\n",
       "                                               sequence  \\\n",
       "2384  AQSVPWGISRVQAPAAHNRGLTGSGVKVAVLGTGISTHPDLNIRGG...   \n",
       "2383  AQVVPWGISRVQPPAAHNRGLTGSGVKVAVLDTGISTHPDLRIRGG...   \n",
       "2357  AQCVPWGISRVQAPAAHNRGLTGSGVKVAVLDTGISTHPDLRIRGG...   \n",
       "\n",
       "                                     savinase_mutations  n_muts  activity  \\\n",
       "2384  D32G/A98S/P131S/F189S/Y209L/T213Y/N218S/A223S/...      10  0.000000   \n",
       "2383  S3V/A13P/N43R/N76D/V84L/A98G/G127R/P131S/S166N...      19  0.000000   \n",
       "2357  S3C/N43R/A98K/P131G/G202S/Q206L/Y209L/T213Y/N2...      10  0.094801   \n",
       "\n",
       "      is_in_mc                                         mut_not_in  is_dup  \\\n",
       "2384         0                                         D32G/F189S       0   \n",
       "2383         0  A13P/V84L/G127R/S166N/Q191H/S216I/G219N/G229C/...       0   \n",
       "2357         0                                              G202S       0   \n",
       "\n",
       "      mean_activity  n_dup  act_max  act_min  act_min_max_diff dup_locs  \\\n",
       "2384            NaN    NaN      NaN      NaN               NaN      NaN   \n",
       "2383            NaN    NaN      NaN      NaN               NaN      NaN   \n",
       "2357            NaN    NaN      NaN      NaN               NaN      NaN   \n",
       "\n",
       "     dup_activities Source  \n",
       "2384            NaN  R1-L1  \n",
       "2383            NaN  R1-L1  \n",
       "2357            NaN  R1-L1  "
      ]
     },
     "execution_count": 3,
     "metadata": {},
     "output_type": "execute_result"
    }
   ],
   "source": [
    "df_R1_L1 = df_R1[df_R1['library'] == 'MC1'].copy()\n",
    "df_R1_L2 = df_R1[df_R1['library'] == 'MC2_S3T'].copy()\n",
    "df_R1_L3 = df_R1[df_R1['library'] == 'MC3'].copy()\n",
    "df_R1_L4 = df_R1[df_R1['library'] == 'MC4'].copy()\n",
    "df_R1_L5 = df_R1[df_R1['library'] == 'MC2_S3N'].copy()\n",
    "\n",
    "df_R1_L1['Source'] = 'R1-L1'\n",
    "df_R1_L2['Source'] = 'R1-L2'\n",
    "df_R1_L3['Source'] = 'R1-L3'\n",
    "df_R1_L4['Source'] = 'R1-L4'\n",
    "df_R1_L5['Source'] = 'R1-L5'\n",
    "\n",
    "df_R1_L1.sort_values('activity', ascending=True, inplace=True)\n",
    "df_R1_L2.sort_values('activity', ascending=True, inplace=True)\n",
    "df_R1_L3.sort_values('activity', ascending=True, inplace=True)\n",
    "df_R1_L4.sort_values('activity', ascending=True, inplace=True)\n",
    "df_R1_L5.sort_values('activity', ascending=True, inplace=True)\n",
    "\n",
    "improving_ratios = [\n",
    "    len(df_R1_L1[df_R1_L1['activity'] > 1]) / len(df_R1_L1),\n",
    "    len(df_R1_L2[df_R1_L2['activity'] > 1]) / len(df_R1_L2),\n",
    "    len(df_R1_L3[df_R1_L3['activity'] > 1]) / len(df_R1_L3),\n",
    "    len(df_R1_L4[df_R1_L4['activity'] > 1]) / len(df_R1_L4),\n",
    "]\n",
    "print(len(df_R1_L1), len(df_R1_L2), len(df_R1_L3), len(df_R1_L4), len(df_R1_L5))\n",
    "print(improving_ratios)\n",
    "df_R1_L1.head(3)"
   ]
  },
  {
   "cell_type": "markdown",
   "id": "3d2b0214",
   "metadata": {},
   "source": [
    "## Dot plots"
   ]
  },
  {
   "cell_type": "code",
   "execution_count": 8,
   "id": "cb3a2470",
   "metadata": {},
   "outputs": [],
   "source": [
    "import pandas as pd\n",
    "from utils import plot_style_utils\n",
    "\n",
    "def plot_data_dot_plots(df_data_to_plot, save_path='figures/round1/wetlab_R1_activity_merged', figsize=(16, 5), improving_ratios=None, ratio_x_locs=None, ratio_y_loc=1.5, label_y=4.0):\n",
    "    plot_style_utils.set_pub_plot_context(context=\"talk\")\n",
    "    fig, ax = plot_style_utils.simple_ax(figsize=figsize)\n",
    "    plot_style_utils.prettify_ax(ax)\n",
    "\n",
    "    val_index = list(range(len(df_data_to_plot)))\n",
    "    ax.plot(val_index, df_data_to_plot['activity'], 'o',  markersize=3, color='black')\n",
    "\n",
    "    ax.set_ylabel('Fold improvement')\n",
    "    ax.set_xlabel('# of samples')\n",
    "    # add library annotations above the dots\n",
    "    x_labels = list(df_data_to_plot['Source'].unique())\n",
    "    n_values = [len(df_data_to_plot[df_data_to_plot['Source'] == source]) for source in x_labels]\n",
    "    x_loc = [sum(n_values[:i]) + n_values[i]//2 if i > 0 else n_values[i]//2  for i in range(len(n_values))]\n",
    "\n",
    "    if improving_ratios is not None:\n",
    "        for i, ratio in enumerate(improving_ratios):\n",
    "            ax.text(ratio_x_locs[i], ratio_y_loc, f'{ratio*100:.1f}%', ha='center')\n",
    "\n",
    "    for i, x in enumerate(x_loc):\n",
    "        ax.text(x, label_y, x_labels[i], ha='center')\n",
    "    \n",
    "    ax.axhspan(0, 1, color=[0.8, 0.8, 0.8], alpha=0.5) ## HARD CODED\n",
    "    ax.axhline(1, color='r', linestyle='--')\n",
    "    ax.axhline(3, color='y', linestyle='--')\n",
    "    ax.set_ylim([0, 7]) ## HARD CODED\n",
    "    plot_style_utils.save_for_pub(fig, path=save_path)"
   ]
  },
  {
   "cell_type": "code",
   "execution_count": 13,
   "id": "ee9b3659",
   "metadata": {},
   "outputs": [
    {
     "data": {
      "image/png": "[encoded data removed]",
      "text/plain": [
       "<Figure size 1200x400 with 1 Axes>"
      ]
     },
     "metadata": {},
     "output_type": "display_data"
    }
   ],
   "source": [
    "df_R1_data_to_plot = pd.concat([df_R1_L1, df_R1_L2, df_R1_L3, df_R1_L4])\n",
    "df_R1_data_to_plot = df_R1_data_to_plot.reset_index()\n",
    "\n",
    "ratio_x_locs=[len(df_R1_L1)//2 - 50, \n",
    "            len(df_R1_L1) + len(df_R1_L2)//2 - 100, \n",
    "            len(df_R1_L1) + len(df_R1_L2) + len(df_R1_L3)//2 - 100, \n",
    "            len(df_R1_L1) + len(df_R1_L2) + len(df_R1_L3) + len(df_R1_L4)//2 - 50]\n",
    "plot_data_dot_plots(df_R1_data_to_plot, \n",
    "                    improving_ratios=improving_ratios, \n",
    "                    ratio_x_locs=ratio_x_locs,\n",
    "                    ratio_y_loc=1.75,\n",
    "                    save_path='figures/round1/wetlab_R1_activity_merged', figsize=(12, 4))"
   ]
  },
  {
   "cell_type": "code",
   "execution_count": null,
   "id": "a4446658",
   "metadata": {},
   "outputs": [],
   "source": []
  }
 ],
 "metadata": {
  "kernelspec": {
   "display_name": "prot-gen-env",
   "language": "python",
   "name": "python3"
  },
  "language_info": {
   "codemirror_mode": {
    "name": "ipython",
    "version": 3
   },
   "file_extension": ".py",
   "mimetype": "text/x-python",
   "name": "python",
   "nbconvert_exporter": "python",
   "pygments_lexer": "ipython3",
   "version": "3.10.14"
  },
  "toc-autonumbering": true
 },
 "nbformat": 4,
 "nbformat_minor": 5
}
