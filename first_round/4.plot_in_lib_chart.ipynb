{
 "cells": [
  {
   "cell_type": "code",
   "execution_count": 1,
   "id": "d7594275",
   "metadata": {},
   "outputs": [
    {
     "name": "stdout",
     "output_type": "stream",
     "text": [
      "/home/xux/Desktop/Enzyme_design/Savi_design/Savinase-engineering\n"
     ]
    }
   ],
   "source": [
    "%load_ext autoreload\n",
    "%autoreload 2\n",
    "%cd /home/xux/Desktop/Enzyme_design/Savi_design/Savinase-engineering"
   ]
  },
  {
   "cell_type": "markdown",
   "id": "d91b7775",
   "metadata": {},
   "source": [
    "# Plot isin piecharts"
   ]
  },
  {
   "cell_type": "code",
   "execution_count": 4,
   "id": "059a4844",
   "metadata": {},
   "outputs": [],
   "source": [
    "import pandas as pd\n",
    "\n",
    "df_mcs_uniq_dup_mean = pd.read_csv('data/round1/wet-lab/mcs_uniq_join_duplicated.csv')"
   ]
  },
  {
   "cell_type": "code",
   "execution_count": 5,
   "id": "5f0232f1",
   "metadata": {},
   "outputs": [
    {
     "data": {
      "text/html": [
       "<div>\n",
       "<style scoped>\n",
       "    .dataframe tbody tr th:only-of-type {\n",
       "        vertical-align: middle;\n",
       "    }\n",
       "\n",
       "    .dataframe tbody tr th {\n",
       "        vertical-align: top;\n",
       "    }\n",
       "\n",
       "    .dataframe thead th {\n",
       "        text-align: right;\n",
       "    }\n",
       "</style>\n",
       "<table border=\"1\" class=\"dataframe\">\n",
       "  <thead>\n",
       "    <tr style=\"text-align: right;\">\n",
       "      <th></th>\n",
       "      <th>library</th>\n",
       "      <th>total</th>\n",
       "      <th>in_library</th>\n",
       "    </tr>\n",
       "  </thead>\n",
       "  <tbody>\n",
       "    <tr>\n",
       "      <th>0</th>\n",
       "      <td>MC1</td>\n",
       "      <td>518</td>\n",
       "      <td>360</td>\n",
       "    </tr>\n",
       "    <tr>\n",
       "      <th>1</th>\n",
       "      <td>MC2_S3N</td>\n",
       "      <td>356</td>\n",
       "      <td>319</td>\n",
       "    </tr>\n",
       "    <tr>\n",
       "      <th>2</th>\n",
       "      <td>MC2_S3T</td>\n",
       "      <td>525</td>\n",
       "      <td>421</td>\n",
       "    </tr>\n",
       "    <tr>\n",
       "      <th>3</th>\n",
       "      <td>MC3</td>\n",
       "      <td>522</td>\n",
       "      <td>427</td>\n",
       "    </tr>\n",
       "    <tr>\n",
       "      <th>4</th>\n",
       "      <td>MC4</td>\n",
       "      <td>475</td>\n",
       "      <td>324</td>\n",
       "    </tr>\n",
       "  </tbody>\n",
       "</table>\n",
       "</div>"
      ],
      "text/plain": [
       "   library  total  in_library\n",
       "0      MC1    518         360\n",
       "1  MC2_S3N    356         319\n",
       "2  MC2_S3T    525         421\n",
       "3      MC3    522         427\n",
       "4      MC4    475         324"
      ]
     },
     "execution_count": 5,
     "metadata": {},
     "output_type": "execute_result"
    }
   ],
   "source": [
    "df_total_counts = df_mcs_uniq_dup_mean[['is_in_x', 'library']].groupby(by='library').count().reset_index().rename(columns={'is_in_x': 'total'})\n",
    "df_in_library_counts = df_mcs_uniq_dup_mean[['is_in_x', 'library']].groupby(by='library').sum().reset_index().rename(columns={'is_in_x': 'in_library'})\n",
    "\n",
    "df_total_counts = df_total_counts.merge(df_in_library_counts, on='library', how='left')\n",
    "df_total_counts"
   ]
  },
  {
   "cell_type": "code",
   "execution_count": 6,
   "id": "c6a90e8d",
   "metadata": {},
   "outputs": [
    {
     "data": {
      "text/html": [
       "<div>\n",
       "<style scoped>\n",
       "    .dataframe tbody tr th:only-of-type {\n",
       "        vertical-align: middle;\n",
       "    }\n",
       "\n",
       "    .dataframe tbody tr th {\n",
       "        vertical-align: top;\n",
       "    }\n",
       "\n",
       "    .dataframe thead th {\n",
       "        text-align: right;\n",
       "    }\n",
       "</style>\n",
       "<table border=\"1\" class=\"dataframe\">\n",
       "  <thead>\n",
       "    <tr style=\"text-align: right;\">\n",
       "      <th></th>\n",
       "      <th>library</th>\n",
       "      <th>total</th>\n",
       "      <th>in_library</th>\n",
       "      <th>in_lib_ratio</th>\n",
       "      <th>out_lib_ratio</th>\n",
       "      <th>lib_name</th>\n",
       "    </tr>\n",
       "  </thead>\n",
       "  <tbody>\n",
       "    <tr>\n",
       "      <th>0</th>\n",
       "      <td>MC1</td>\n",
       "      <td>518</td>\n",
       "      <td>360</td>\n",
       "      <td>0.694981</td>\n",
       "      <td>0.305019</td>\n",
       "      <td>R1-L1</td>\n",
       "    </tr>\n",
       "    <tr>\n",
       "      <th>1</th>\n",
       "      <td>MC2_S3N</td>\n",
       "      <td>356</td>\n",
       "      <td>319</td>\n",
       "      <td>0.896067</td>\n",
       "      <td>0.103933</td>\n",
       "      <td>R1-L5</td>\n",
       "    </tr>\n",
       "    <tr>\n",
       "      <th>2</th>\n",
       "      <td>MC2_S3T</td>\n",
       "      <td>525</td>\n",
       "      <td>421</td>\n",
       "      <td>0.801905</td>\n",
       "      <td>0.198095</td>\n",
       "      <td>R1-L2</td>\n",
       "    </tr>\n",
       "    <tr>\n",
       "      <th>3</th>\n",
       "      <td>MC3</td>\n",
       "      <td>522</td>\n",
       "      <td>427</td>\n",
       "      <td>0.818008</td>\n",
       "      <td>0.181992</td>\n",
       "      <td>R1-L3</td>\n",
       "    </tr>\n",
       "    <tr>\n",
       "      <th>4</th>\n",
       "      <td>MC4</td>\n",
       "      <td>475</td>\n",
       "      <td>324</td>\n",
       "      <td>0.682105</td>\n",
       "      <td>0.317895</td>\n",
       "      <td>R1-L4</td>\n",
       "    </tr>\n",
       "  </tbody>\n",
       "</table>\n",
       "</div>"
      ],
      "text/plain": [
       "   library  total  in_library  in_lib_ratio  out_lib_ratio lib_name\n",
       "0      MC1    518         360      0.694981       0.305019    R1-L1\n",
       "1  MC2_S3N    356         319      0.896067       0.103933    R1-L5\n",
       "2  MC2_S3T    525         421      0.801905       0.198095    R1-L2\n",
       "3      MC3    522         427      0.818008       0.181992    R1-L3\n",
       "4      MC4    475         324      0.682105       0.317895    R1-L4"
      ]
     },
     "execution_count": 6,
     "metadata": {},
     "output_type": "execute_result"
    }
   ],
   "source": [
    "df_total_counts['in_lib_ratio'] = df_total_counts['in_library'] / df_total_counts['total']\n",
    "df_total_counts[\"out_lib_ratio\"] = 1 - df_total_counts['in_lib_ratio']\n",
    "lib_name_map = dict(zip(['MC1', 'MC2_S3N', 'MC2_S3T', 'MC3', 'MC4'], ['R1-L1', 'R1-L5', 'R1-L2', 'R1-L3', 'R1-L4']))\n",
    "df_total_counts['lib_name'] = df_total_counts['library'].map(lib_name_map)\n",
    "df_total_counts"
   ]
  },
  {
   "cell_type": "code",
   "execution_count": 7,
   "id": "58ddf908",
   "metadata": {},
   "outputs": [
    {
     "data": {
      "image/png": "[encoded data removed]",
      "text/plain": [
       "<Figure size 600x400 with 1 Axes>"
      ]
     },
     "metadata": {},
     "output_type": "display_data"
    }
   ],
   "source": [
    "from utils import plot_style_utils\n",
    "import matplotlib.pyplot as plt\n",
    "import numpy as np\n",
    "\n",
    "df_total_counts_selected = df_total_counts[df_total_counts['lib_name'].isin(['R1-L1', 'R1-L2', 'R1-L3', 'R1-L4',])]\n",
    "\n",
    "plot_style_utils.set_pub_plot_context(context=\"talk\")\n",
    "fig, ax = plot_style_utils.simple_ax()\n",
    "plot_style_utils.prettify_ax(ax)\n",
    "\n",
    "labels = df_total_counts_selected['lib_name'].values\n",
    "x = np.arange(len(labels))  # the label locations\n",
    "\n",
    "all_data = np.array([df_total_counts_selected['in_lib_ratio'].values, df_total_counts_selected['out_lib_ratio'].values])\n",
    "sums = all_data.sum(axis=0)\n",
    "bar_labels = ['Within selected sites', 'Out of selected sites',]\n",
    "\n",
    "\n",
    "bottom_y = np.zeros(len(labels))\n",
    "for i, (data, b_label) in enumerate(zip(all_data, bar_labels)):\n",
    "    y = data/sums\n",
    "    ax.bar(labels, y, label=b_label, color=plot_style_utils.CAT_PALETTE[i], bottom=bottom_y)\n",
    "    bottom_y += y\n",
    "\n",
    "for c in ax.containers:\n",
    "    ax.bar_label(c, label_type='center', labels=[f'{100*x:.1f}%' for x in c.datavalues], color='w', fontsize=14)\n",
    "\n",
    "ax.grid(True, color='0.6', linestyle='--', linewidth=1)\n",
    "ax.set_xlabel(\"Library\")\n",
    "ax.set_ylabel(\"Ratio of variants\")\n",
    "ax.set_ylim(0, 1.0)\n",
    "#\n",
    "ax.set_xticks(x)\n",
    "ax.set_xticklabels(labels)\n",
    "\n",
    "ax.yaxis.set_major_formatter(plt.FuncFormatter(lambda y, _: f'{y*100:.0f}%'))\n",
    "\n",
    "ax.legend(ncol=3, loc='upper center', frameon=False, handlelength=1.5, bbox_to_anchor=(0.5, 1.2))\n",
    "plot_style_utils.save_for_pub(fig=fig, path=\"figures/round1/r1_libs_inlib_barplot\")"
   ]
  },
  {
   "cell_type": "code",
   "execution_count": null,
   "id": "e5e5b9d9",
   "metadata": {},
   "outputs": [],
   "source": []
  }
 ],
 "metadata": {
  "kernelspec": {
   "display_name": "prot-gen-env",
   "language": "python",
   "name": "python3"
  },
  "language_info": {
   "codemirror_mode": {
    "name": "ipython",
    "version": 3
   },
   "file_extension": ".py",
   "mimetype": "text/x-python",
   "name": "python",
   "nbconvert_exporter": "python",
   "pygments_lexer": "ipython3",
   "version": "3.10.14"
  },
  "toc-autonumbering": true
 },
 "nbformat": 4,
 "nbformat_minor": 5
}
