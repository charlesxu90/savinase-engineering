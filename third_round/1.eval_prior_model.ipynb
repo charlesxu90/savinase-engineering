{
 "cells": [
  {
   "cell_type": "code",
   "execution_count": 1,
   "id": "752f7588",
   "metadata": {},
   "outputs": [
    {
     "name": "stdout",
     "output_type": "stream",
     "text": [
      "/home/xux/Desktop/Enzyme_design/Savi_design/Savinase-engineering\n"
     ]
    }
   ],
   "source": [
    "%load_ext autoreload\n",
    "%autoreload 2\n",
    "%cd /home/xux/Desktop/Enzyme_design/Savi_design/Savinase-engineering"
   ]
  },
  {
   "cell_type": "code",
   "execution_count": 2,
   "id": "3195a853-d4b0-44ad-ac48-eb96178e35ed",
   "metadata": {},
   "outputs": [],
   "source": [
    "import pandas as pd\n",
    "import numpy as np\n",
    "import scipy.stats as stats\n",
    "from Levenshtein import distance as levenshtein_distance"
   ]
  },
  {
   "attachments": {},
   "cell_type": "markdown",
   "id": "8bb06b36-44f9-4441-96c2-5948874986a9",
   "metadata": {
    "tags": []
   },
   "source": [
    "# Evaluate the distance to Savinase"
   ]
  },
  {
   "cell_type": "code",
   "execution_count": 3,
   "id": "2642c464-d1e5-494e-9cdb-4e8b22ac9617",
   "metadata": {},
   "outputs": [],
   "source": [
    "savinase = 'AQSVPWGISRVQAPAAHNRGLTGSGVKVAVLDTGISTHPDLNIRGGASFVPGEPSTQDGNGHGTHVAGTIAALNNSIGVLGVAPSAELYAVKVLGASGSGSVSSIAQGLEWAGNNGMHVANLSLGSPSPSATLEQAVNSATSRGVLVVAASGNSGAGSISYPARYANAMAVGATDQNNNRASFSQYGAGLDIVAPGVNVQSTYPGSTYASLNGTSMATPHVAGAAALVKQKNPSWSNVQIRNHLKNTATSLGSTNLYGSGLVNAEAATR'\n",
    "\n",
    "def edit_distance2wildtype(variant_seq, wildtype=savinase):\n",
    "    try:\n",
    "        return levenshtein_distance(variant_seq, wildtype)\n",
    "    except:\n",
    "        raise Exception(f\"variant_seq value error {variant_seq}\")"
   ]
  },
  {
   "attachments": {},
   "cell_type": "markdown",
   "id": "cfa851db-f508-4d23-9ccd-9996aa461592",
   "metadata": {},
   "source": [
    "## Baseline 10k training data"
   ]
  },
  {
   "cell_type": "code",
   "execution_count": 4,
   "id": "27b2182b-6044-4241-b4c7-31187bdd7c5f",
   "metadata": {},
   "outputs": [
    {
     "data": {
      "text/plain": [
       "10000"
      ]
     },
     "execution_count": 4,
     "metadata": {},
     "output_type": "execute_result"
    }
   ],
   "source": [
    "train_path = 'data/round3/prior/target_seqs_train.csv'\n",
    "train_data = pd.read_csv(train_path)\n",
    "\n",
    "train = train_data['sequence'].tolist()\n",
    "train_data['seq_len'] = train_data['sequence'].str.len()\n",
    "train_data['dist2wt'] = [edit_distance2wildtype(seq) for seq in train_data['sequence']]\n",
    "\n",
    "train_10k = train_data.sample(10000)\n",
    "\n",
    "train_10k.to_csv(train_path + '-10k.csv', index=False)\n",
    "len(train_10k)"
   ]
  },
  {
   "attachments": {},
   "cell_type": "markdown",
   "id": "15b7fa77-ad57-448d-a0f2-1dc276def888",
   "metadata": {},
   "source": [
    "## 10k samples from Prior model"
   ]
  },
  {
   "cell_type": "code",
   "execution_count": 5,
   "id": "3c90a8d0-4b25-4ed9-9e79-69d690690802",
   "metadata": {},
   "outputs": [
    {
     "data": {
      "text/plain": [
       "9998"
      ]
     },
     "execution_count": 5,
     "metadata": {},
     "output_type": "execute_result"
    }
   ],
   "source": [
    "prior_sample_path = 'data/round3/prior/pretrain_10k_samples.csv'\n",
    "\n",
    "prior_10k = pd.read_csv(prior_sample_path)\n",
    "prior_10k['seq_len'] = prior_10k['seqs'].str.len()\n",
    "prior_10k['dist2wt'] = [edit_distance2wildtype(seq)  if not pd.isna(seq) else len(savinase) for seq in prior_10k['seqs']]\n",
    "len(prior_10k)"
   ]
  },
  {
   "attachments": {},
   "cell_type": "markdown",
   "id": "dede21ac-8f25-4233-bd4f-81421980ec9d",
   "metadata": {},
   "source": [
    "## 10k samples from finetuned Prior model"
   ]
  },
  {
   "cell_type": "code",
   "execution_count": 6,
   "id": "0443845b-47d4-4aa7-94f6-ca8ad4c664d5",
   "metadata": {},
   "outputs": [
    {
     "data": {
      "text/plain": [
       "9006"
      ]
     },
     "execution_count": 6,
     "metadata": {},
     "output_type": "execute_result"
    }
   ],
   "source": [
    "ft_prior_sample_path = 'data/round3/prior/finetune_10k_samples.csv'\n",
    "\n",
    "ft_prior_10k = pd.read_csv(ft_prior_sample_path)\n",
    "ft_prior_10k['seq_len'] = ft_prior_10k['seqs'].str.len()\n",
    "ft_prior_10k['dist2wt'] = [edit_distance2wildtype(seq)  if not pd.isna(seq) else len(savinase) for seq in ft_prior_10k['seqs']]\n",
    "len(ft_prior_10k)"
   ]
  },
  {
   "cell_type": "code",
   "execution_count": 7,
   "id": "f835e4fa-73b5-42a9-bc86-cc169677b2cc",
   "metadata": {},
   "outputs": [
    {
     "name": "stdout",
     "output_type": "stream",
     "text": [
      "dist2wt: min = 1, max = 370\n",
      "final dist2wt: mean = 16.11114812347324, median = 14.0\n"
     ]
    }
   ],
   "source": [
    "def show_min_max(prop):\n",
    "    min_max = [train_10k[prop].values.min(),train_10k[prop].values.max(), \\\n",
    "               prior_10k[prop].values.min(),prior_10k[prop].values.max(), \\\n",
    "               ft_prior_10k[prop].values.min(),ft_prior_10k[prop].values.max()]\n",
    "    print(f\"{prop}: min = {min(min_max)}, max = {max(min_max)}\")\n",
    "\n",
    "    print(f\"final {prop}: mean = {ft_prior_10k[prop].mean()}, median = {ft_prior_10k[prop].median()}\")\n",
    "\n",
    "show_min_max('dist2wt')"
   ]
  },
  {
   "cell_type": "code",
   "execution_count": 8,
   "id": "88994bf2",
   "metadata": {},
   "outputs": [
    {
     "data": {
      "image/png": "[encoded data removed]",
      "text/plain": [
       "<Figure size 600x400 with 1 Axes>"
      ]
     },
     "metadata": {},
     "output_type": "display_data"
    }
   ],
   "source": [
    "from utils import plot_style_utils\n",
    "\n",
    "plot_style_utils.set_pub_plot_context(context=\"talk\")\n",
    "fig, ax = plot_style_utils.simple_ax()\n",
    "plot_style_utils.prettify_ax(ax)\n",
    "\n",
    "prop = 'dist2wt'\n",
    "ylabel = 'Number of mutations'\n",
    "\n",
    "# show the mean and std of the distributions\n",
    "train_mean = train_10k[prop].mean()\n",
    "train_std = train_10k[prop].std()\n",
    "prior_mean = prior_10k[prop].mean()\n",
    "prior_std = prior_10k[prop].std()\n",
    "Savi_prior_mean = ft_prior_10k[prop].mean()\n",
    "Savi_prior_std = ft_prior_10k[prop].std()\n",
    "\n",
    "# plot a bar plot to compare the mumber of mutations\n",
    "ax.bar([1, 2, 3], [train_mean, prior_mean, Savi_prior_mean], \n",
    "       yerr=[train_std, prior_std, Savi_prior_std],\n",
    "       color=[plot_style_utils.CAT_PALETTE[1], plot_style_utils.CAT_PALETTE[2], plot_style_utils.CAT_PALETTE[0]],\n",
    "       alpha=0.6, capsize=5)\n",
    "\n",
    "ax.set_xticks([1, 2, 3])\n",
    "ax.set_xticklabels(['Baseline', 'Pre-trained', 'Fine-tuned'])\n",
    "ax.set_ylabel(ylabel)\n",
    "\n",
    "ax.set_ylim([0, 320])\n",
    "plot_style_utils.save_for_pub(fig=fig, path=\"figures/round3/prior_dist2wt_barplot\")"
   ]
  },
  {
   "cell_type": "code",
   "execution_count": null,
   "id": "d529ed42",
   "metadata": {},
   "outputs": [],
   "source": []
  }
 ],
 "metadata": {
  "kernelspec": {
   "display_name": "prot-gen-env",
   "language": "python",
   "name": "python3"
  },
  "language_info": {
   "codemirror_mode": {
    "name": "ipython",
    "version": 3
   },
   "file_extension": ".py",
   "mimetype": "text/x-python",
   "name": "python",
   "nbconvert_exporter": "python",
   "pygments_lexer": "ipython3",
   "version": "3.10.14"
  }
 },
 "nbformat": 4,
 "nbformat_minor": 5
}
