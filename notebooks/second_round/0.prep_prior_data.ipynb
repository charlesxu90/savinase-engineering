{
 "cells": [
  {
   "cell_type": "code",
   "execution_count": 1,
   "id": "0edeac5e",
   "metadata": {},
   "outputs": [
    {
     "name": "stdout",
     "output_type": "stream",
     "text": [
      "/home/xux/Desktop/Enzyme_design/Savi_design/Savinase-engineering\n"
     ]
    }
   ],
   "source": [
    "%load_ext autoreload\n",
    "%autoreload 2\n",
    "%cd /home/xux/Desktop/Enzyme_design/Savi_design/Savinase-engineering"
   ]
  },
  {
   "cell_type": "markdown",
   "id": "154f497c",
   "metadata": {},
   "source": [
    "# Round1 wet-lab data"
   ]
  },
  {
   "cell_type": "code",
   "execution_count": 2,
   "id": "b42e3b9a",
   "metadata": {},
   "outputs": [],
   "source": [
    "import pandas as pd\n",
    "\n",
    "data_path = 'data/round2/activity/data.csv'\n",
    "df_act = pd.read_csv(data_path)"
   ]
  },
  {
   "cell_type": "code",
   "execution_count": 3,
   "id": "d4f41ad5",
   "metadata": {},
   "outputs": [],
   "source": [
    "# Convert data into fasta formate\n",
    "with open('data/round2/activity/data.csv.fasta', 'w') as f:\n",
    "    for i, seq in enumerate(df_act['seq']):\n",
    "        f.write(f'>seq_{i}\\n{seq}\\n')"
   ]
  },
  {
   "cell_type": "markdown",
   "id": "4df90318",
   "metadata": {},
   "source": [
    "# Process the prior data"
   ]
  },
  {
   "cell_type": "code",
   "execution_count": 4,
   "id": "a0ecb15b",
   "metadata": {},
   "outputs": [],
   "source": [
    "def load_fasta_to_df(fasta_file):\n",
    "    \"\"\"load fasta file to dataframe\n",
    "    \"\"\"\n",
    "    with open(fasta_file, 'r') as f:\n",
    "        lines = f.readlines()\n",
    "    seqs = []\n",
    "    headers = []\n",
    "    new_line = False\n",
    "    for line in lines:\n",
    "        if line[0] == '>':\n",
    "            headers.append(line.strip())\n",
    "            new_line = True\n",
    "        else:\n",
    "            if new_line:\n",
    "                seqs.append(line.strip())\n",
    "                new_line = False\n",
    "            else:\n",
    "                seqs[-1] += line.strip()\n",
    "    df = pd.DataFrame({'name': headers, 'sequence': seqs})\n",
    "    return df"
   ]
  },
  {
   "cell_type": "code",
   "execution_count": 5,
   "id": "1b5dc919",
   "metadata": {},
   "outputs": [
    {
     "data": {
      "text/plain": [
       "223594"
      ]
     },
     "execution_count": 5,
     "metadata": {},
     "output_type": "execute_result"
    }
   ],
   "source": [
    "fasta_file = 'data/round2/prior/target_seqs.fasta'\n",
    "\n",
    "df_hmm_search = load_fasta_to_df(fasta_file)\n",
    "df_hmm_search['length'] = [len(seq) for seq in df_hmm_search.sequence]\n",
    "len(df_hmm_search)"
   ]
  },
  {
   "cell_type": "code",
   "execution_count": 6,
   "id": "f01cbdff",
   "metadata": {},
   "outputs": [
    {
     "data": {
      "text/plain": [
       "Index(['name', 'sequence', 'length'], dtype='object')"
      ]
     },
     "metadata": {},
     "output_type": "display_data"
    },
    {
     "data": {
      "text/plain": [
       "62667"
      ]
     },
     "execution_count": 6,
     "metadata": {},
     "output_type": "execute_result"
    }
   ],
   "source": [
    "df_subtilisin_like = pd.read_csv('data/round2/prior/PF00082.25.fasta.csv')\n",
    "display(df_subtilisin_like.columns)\n",
    "len(df_subtilisin_like)"
   ]
  },
  {
   "cell_type": "code",
   "execution_count": 7,
   "id": "597f34ec",
   "metadata": {},
   "outputs": [
    {
     "data": {
      "text/plain": [
       "111862"
      ]
     },
     "execution_count": 7,
     "metadata": {},
     "output_type": "execute_result"
    }
   ],
   "source": [
    "df_prior = pd.concat([df_hmm_search, df_subtilisin_like])\n",
    "df_prior_filt = df_prior[(df_prior.length<=478.0) & (df_prior.length>=127.0)]\n",
    "len(df_prior_filt)"
   ]
  },
  {
   "cell_type": "code",
   "execution_count": 8,
   "id": "e3a6f2cd",
   "metadata": {},
   "outputs": [
    {
     "data": {
      "text/plain": [
       "(89489, 22373)"
      ]
     },
     "execution_count": 8,
     "metadata": {},
     "output_type": "execute_result"
    }
   ],
   "source": [
    "# Split dataframe into train and test\n",
    "from sklearn.model_selection import train_test_split\n",
    "\n",
    "df_train, df_test = train_test_split(df_prior_filt, test_size=0.2, random_state=42)\n",
    "\n",
    "df_train.to_csv('data/round2/prior/target_seqs_train.csv', index=False)\n",
    "df_test.to_csv('data/round2/prior/target_seqs_test.csv', index=False)\n",
    "\n",
    "len(df_train), len(df_test)"
   ]
  },
  {
   "cell_type": "code",
   "execution_count": 9,
   "id": "ed1cbc00",
   "metadata": {},
   "outputs": [
    {
     "data": {
      "image/png": "[encoded data removed]",
      "text/plain": [
       "<Figure size 600x400 with 1 Axes>"
      ]
     },
     "metadata": {},
     "output_type": "display_data"
    }
   ],
   "source": [
    "from utils import plot_style_utils\n",
    "import os\n",
    "\n",
    "plot_style_utils.set_pub_plot_context(context=\"talk\")\n",
    "fig, ax = plot_style_utils.simple_ax()\n",
    "plot_style_utils.prettify_ax(ax)\n",
    "\n",
    "min_x, max_x, binwidth = 0, 500, 20\n",
    "bins=range(min_x, max_x + binwidth, binwidth)\n",
    "ax.hist(df_prior.length, bins=bins)\n",
    "\n",
    "ax.set_xlabel(\"Sequence length\")\n",
    "ax.set_ylabel(\"Frequency\")\n",
    "ax.set_xlim(0, 500)\n",
    "ax.set_yscale('log')\n",
    "os.makedirs('figures/round2/prior', exist_ok=True)\n",
    "plot_style_utils.save_for_pub(fig, path='figures/round2/prior_length_hist')"
   ]
  },
  {
   "cell_type": "code",
   "execution_count": null,
   "id": "ede7f2b1",
   "metadata": {},
   "outputs": [],
   "source": []
  }
 ],
 "metadata": {
  "kernelspec": {
   "display_name": "prot-gen-env",
   "language": "python",
   "name": "python3"
  },
  "language_info": {
   "codemirror_mode": {
    "name": "ipython",
    "version": 3
   },
   "file_extension": ".py",
   "mimetype": "text/x-python",
   "name": "python",
   "nbconvert_exporter": "python",
   "pygments_lexer": "ipython3",
   "version": "3.10.14"
  },
  "toc-autonumbering": true,
  "toc-showmarkdowntxt": false
 },
 "nbformat": 4,
 "nbformat_minor": 5
}
