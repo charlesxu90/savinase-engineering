{
 "cells": [
  {
   "cell_type": "code",
   "execution_count": 1,
   "id": "71a6858f",
   "metadata": {},
   "outputs": [
    {
     "name": "stdout",
     "output_type": "stream",
     "text": [
      "/home/xux/Desktop/Enzyme_design/Savi_design/Savinase-engineering\n"
     ]
    }
   ],
   "source": [
    "%load_ext autoreload\n",
    "%autoreload 2\n",
    "%cd /home/xux/Desktop/Enzyme_design/Savi_design/Savinase-engineering"
   ]
  },
  {
   "cell_type": "markdown",
   "id": "d0ee3a80",
   "metadata": {},
   "source": [
    "# Plot R2 activity data"
   ]
  },
  {
   "cell_type": "code",
   "execution_count": 2,
   "id": "30646c6c",
   "metadata": {},
   "outputs": [
    {
     "name": "stdout",
     "output_type": "stream",
     "text": [
      "1398 1171\n"
     ]
    },
    {
     "data": {
      "text/html": [
       "<div>\n",
       "<style scoped>\n",
       "    .dataframe tbody tr th:only-of-type {\n",
       "        vertical-align: middle;\n",
       "    }\n",
       "\n",
       "    .dataframe tbody tr th {\n",
       "        vertical-align: top;\n",
       "    }\n",
       "\n",
       "    .dataframe thead th {\n",
       "        text-align: right;\n",
       "    }\n",
       "</style>\n",
       "<table border=\"1\" class=\"dataframe\">\n",
       "  <thead>\n",
       "    <tr style=\"text-align: right;\">\n",
       "      <th></th>\n",
       "      <th>chip_loc</th>\n",
       "      <th>activity</th>\n",
       "      <th>chip_loc_id</th>\n",
       "      <th>Source</th>\n",
       "    </tr>\n",
       "  </thead>\n",
       "  <tbody>\n",
       "    <tr>\n",
       "      <th>551</th>\n",
       "      <td>R2-6-D-11</td>\n",
       "      <td>0.021132</td>\n",
       "      <td>R2-6-47</td>\n",
       "      <td>R2</td>\n",
       "    </tr>\n",
       "    <tr>\n",
       "      <th>331</th>\n",
       "      <td>R2-4-D-06</td>\n",
       "      <td>0.024420</td>\n",
       "      <td>R2-4-42</td>\n",
       "      <td>R2</td>\n",
       "    </tr>\n",
       "    <tr>\n",
       "      <th>484</th>\n",
       "      <td>R2-6-A-03</td>\n",
       "      <td>0.030050</td>\n",
       "      <td>R2-6-3</td>\n",
       "      <td>R2</td>\n",
       "    </tr>\n",
       "    <tr>\n",
       "      <th>500</th>\n",
       "      <td>R2-6-A-05</td>\n",
       "      <td>0.033002</td>\n",
       "      <td>R2-6-5</td>\n",
       "      <td>R2</td>\n",
       "    </tr>\n",
       "    <tr>\n",
       "      <th>630</th>\n",
       "      <td>R2-7-C-09</td>\n",
       "      <td>0.033062</td>\n",
       "      <td>R2-7-33</td>\n",
       "      <td>R2</td>\n",
       "    </tr>\n",
       "  </tbody>\n",
       "</table>\n",
       "</div>"
      ],
      "text/plain": [
       "      chip_loc  activity chip_loc_id Source\n",
       "551  R2-6-D-11  0.021132     R2-6-47     R2\n",
       "331  R2-4-D-06  0.024420     R2-4-42     R2\n",
       "484  R2-6-A-03  0.030050      R2-6-3     R2\n",
       "500  R2-6-A-05  0.033002      R2-6-5     R2\n",
       "630  R2-7-C-09  0.033062     R2-7-33     R2"
      ]
     },
     "execution_count": 2,
     "metadata": {},
     "output_type": "execute_result"
    }
   ],
   "source": [
    "import pandas as pd\n",
    "\n",
    "R2_act_xls_path = 'data/round2/wet-lab/R2_activity.xlsx'\n",
    "\n",
    "df_R2 = pd.read_csv(R2_act_xls_path + '.csv')\n",
    "df_R2['Source'] = 'R2'\n",
    "df_R2.sort_values('activity', ascending=True, inplace=True)\n",
    "print(len(df_R2), len(df_R2[df_R2.activity > 1]))\n",
    "df_R2.head()"
   ]
  },
  {
   "cell_type": "markdown",
   "id": "3d2b0214",
   "metadata": {},
   "source": [
    "## Dot plots"
   ]
  },
  {
   "cell_type": "code",
   "execution_count": 3,
   "id": "cb3a2470",
   "metadata": {},
   "outputs": [],
   "source": [
    "import pandas as pd\n",
    "from utils import plot_style_utils\n",
    "\n",
    "def plot_data_dot_plots(df_data_to_plot, save_path='figures/round2/wetlab1_R2_activity_merged', figsize=(16, 5), improving_ratio=None, ratio_loc=(0, 1.5), label_y=4.0):\n",
    "    plot_style_utils.set_pub_plot_context(context=\"talk\")\n",
    "    fig, ax = plot_style_utils.simple_ax(figsize=figsize)\n",
    "    plot_style_utils.prettify_ax(ax)\n",
    "\n",
    "    val_index = list(range(len(df_data_to_plot)))\n",
    "    ax.plot(val_index, df_data_to_plot['activity'], 'o',  markersize=3, color='black')\n",
    "\n",
    "    ax.set_ylabel('Fold improvement')\n",
    "    ax.set_xlabel('# of samples')\n",
    "    # add library annotations above the dots\n",
    "    x_labels = list(df_data_to_plot['Source'].unique())\n",
    "    n_values = [len(df_data_to_plot[df_data_to_plot['Source'] == source]) for source in x_labels]\n",
    "    x_loc = [sum(n_values[:i]) + n_values[i]//2 if i > 0 else n_values[i]//2  for i in range(len(n_values))]\n",
    "\n",
    "    if improving_ratio is not None:\n",
    "        ax.text(ratio_loc[0], ratio_loc[1], f'Improving ratio: {improving_ratio*100:.1f}%', ha='center')\n",
    "\n",
    "    for i, x in enumerate(x_loc):\n",
    "        ax.text(x, label_y, x_labels[i], ha='center')\n",
    "    \n",
    "    ax.axhspan(0, 1, color=[0.8, 0.8, 0.8], alpha=0.5) ## HARD CODED\n",
    "    ax.axhline(1, color='r', linestyle='--')\n",
    "    ax.axhline(3, color='y', linestyle='--')\n",
    "    ax.set_ylim([0, 7]) ## HARD CODED\n",
    "    plot_style_utils.save_for_pub(fig, path=save_path)"
   ]
  },
  {
   "cell_type": "code",
   "execution_count": 4,
   "id": "57a2d6f9",
   "metadata": {},
   "outputs": [
    {
     "name": "stdout",
     "output_type": "stream",
     "text": [
      "Improving ratio: 0.8376251788268956\n"
     ]
    },
    {
     "data": {
      "image/png": "[encoded data removed]",
      "text/plain": [
       "<Figure size 800x400 with 1 Axes>"
      ]
     },
     "metadata": {},
     "output_type": "display_data"
    }
   ],
   "source": [
    "df_R2_data_to_plot = df_R2.copy()\n",
    "# df_R2_data_to_plot = df_R2_data_to_plot.reset_index()\n",
    "improving_ratio = len(df_R2_data_to_plot[df_R2_data_to_plot.activity > 1]) / len(df_R2_data_to_plot)\n",
    "print(f'Improving ratio: {improving_ratio}')\n",
    "\n",
    "plot_data_dot_plots(df_R2_data_to_plot, save_path='figures/round2/wetlab2_R2_activity', figsize=(8, 4), improving_ratio=improving_ratio, ratio_loc=(700, 4.5), label_y=5.5)"
   ]
  },
  {
   "cell_type": "code",
   "execution_count": null,
   "id": "a4446658",
   "metadata": {},
   "outputs": [],
   "source": []
  }
 ],
 "metadata": {
  "kernelspec": {
   "display_name": "prot-gen-env",
   "language": "python",
   "name": "python3"
  },
  "language_info": {
   "codemirror_mode": {
    "name": "ipython",
    "version": 3
   },
   "file_extension": ".py",
   "mimetype": "text/x-python",
   "name": "python",
   "nbconvert_exporter": "python",
   "pygments_lexer": "ipython3",
   "version": "3.10.14"
  },
  "toc-autonumbering": true
 },
 "nbformat": 4,
 "nbformat_minor": 5
}
