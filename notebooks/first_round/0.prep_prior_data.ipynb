{
 "cells": [
  {
   "cell_type": "code",
   "execution_count": 1,
   "id": "2040144f",
   "metadata": {},
   "outputs": [
    {
     "name": "stdout",
     "output_type": "stream",
     "text": [
      "/home/xux/Desktop/Enzyme_design/Savi_design/Savinase-engineering\n"
     ]
    }
   ],
   "source": [
    "%load_ext autoreload\n",
    "%autoreload 2\n",
    "%cd /home/xux/Desktop/Enzyme_design/Savi_design/Savinase-engineering"
   ]
  },
  {
   "attachments": {},
   "cell_type": "markdown",
   "id": "491b0fc2-a9bc-4d66-a68f-80b516ad5696",
   "metadata": {
    "tags": []
   },
   "source": [
    "# Create prior training dataset"
   ]
  },
  {
   "attachments": {},
   "cell_type": "markdown",
   "id": "b1904154-78cc-431e-9019-09851fa6a1cf",
   "metadata": {},
   "source": [
    "## Create a dataframe from fasta"
   ]
  },
  {
   "cell_type": "code",
   "execution_count": null,
   "id": "f037f30f-8a29-44ef-a5ca-ea10d4e69560",
   "metadata": {},
   "outputs": [],
   "source": [
    "import pandas as pd\n",
    "from Bio import SeqIO\n",
    "\n",
    "def get_df_from_fasta(data_path):\n",
    "    fasta_sequences = SeqIO.parse(open(data_path),'fasta')\n",
    "    names, seqs = [], []\n",
    "\n",
    "    for fasta in fasta_sequences:\n",
    "        name, sequence = fasta.id, str(fasta.seq)\n",
    "        names.append(name)\n",
    "        sequence = sequence.replace(\"-\", \"\").upper()\n",
    "        seqs.append(sequence)\n",
    "\n",
    "    print(f\"Total number of sequences: {len(seqs)}\")\n",
    "    df = pd.DataFrame({'name':names, 'sequence': seqs})\n",
    "    return df"
   ]
  },
  {
   "cell_type": "code",
   "execution_count": 11,
   "id": "16239d97-9df2-4246-808f-b503b3e24e6e",
   "metadata": {},
   "outputs": [
    {
     "name": "stdout",
     "output_type": "stream",
     "text": [
      "Total number of sequences: 62667\n"
     ]
    }
   ],
   "source": [
    "fasta_path = 'data/round1/dry-lab/prior/PF00082.25.fasta'\n",
    "subtilisin_data = get_df_from_fasta(fasta_path)\n",
    "subtilisin_data['sequence'] = subtilisin_data.sequence.str.upper()\n",
    "subtilisin_data['length'] = subtilisin_data.sequence.str.len()\n",
    "subtilisin_data.to_csv(fasta_path+\".csv\", index=False)"
   ]
  },
  {
   "attachments": {},
   "cell_type": "markdown",
   "id": "7373a84c-ce9e-49b1-b1f3-8b3da6e7e150",
   "metadata": {},
   "source": [
    "## Filter sequences by length"
   ]
  },
  {
   "cell_type": "code",
   "execution_count": 12,
   "id": "b9aa77ca-857a-40c8-bcb6-738b72954972",
   "metadata": {},
   "outputs": [
    {
     "name": "stdout",
     "output_type": "stream",
     "text": [
      "279.0 127.0 478.0\n"
     ]
    },
    {
     "data": {
      "text/plain": [
       "56623"
      ]
     },
     "execution_count": 12,
     "metadata": {},
     "output_type": "execute_result"
    }
   ],
   "source": [
    "df_path = fasta_path+\".csv\"\n",
    "\n",
    "subtilisin_data = pd.read_csv(df_path)\n",
    "print(subtilisin_data.length.median(), subtilisin_data.length.quantile(0.05), subtilisin_data.length.quantile(0.95))\n",
    "subtilisin_filtered = subtilisin_data[(subtilisin_data.length<=478.0) & (subtilisin_data.length>=127.0)] # 5%, 95% percentile\n",
    "subtilisin_filtered.to_csv(df_path+'-filtered.csv', index=False)\n",
    "\n",
    "len(subtilisin_filtered)"
   ]
  },
  {
   "attachments": {},
   "cell_type": "markdown",
   "id": "2a529e82-698c-4cec-9758-0fb79171c615",
   "metadata": {},
   "source": [
    "## Plot length distributions"
   ]
  },
  {
   "cell_type": "code",
   "execution_count": 15,
   "id": "f061a401-d2bf-43ab-98ac-cbc4c0a57a48",
   "metadata": {},
   "outputs": [
    {
     "data": {
      "image/png": "[encoded data removed]",
      "text/plain": [
       "<Figure size 600x400 with 1 Axes>"
      ]
     },
     "metadata": {},
     "output_type": "display_data"
    }
   ],
   "source": [
    "from utils import plot_style_utils\n",
    "import os\n",
    "\n",
    "plot_style_utils.set_pub_plot_context(context=\"talk\")\n",
    "\n",
    "fig, ax = plot_style_utils.simple_ax()\n",
    "plot_style_utils.prettify_ax(ax)\n",
    "\n",
    "min_x, max_x, binwidth = 0, 800, 20\n",
    "bins=range(min_x, max_x + binwidth, binwidth)\n",
    "\n",
    "ax.hist(subtilisin_data.length, bins=bins)\n",
    "\n",
    "ax.set_xlabel(\"Sequence length\")\n",
    "ax.set_ylabel(\"Frequency\")\n",
    "ax.set_xlim(0, 800)\n",
    "ax.set_yscale('log')\n",
    "\n",
    "os.makedirs(\"figures/round1\", exist_ok=True)\n",
    "plot_style_utils.save_for_pub(fig, path='figures/round1/prior_length_hist')"
   ]
  },
  {
   "cell_type": "markdown",
   "id": "cf7d3a48",
   "metadata": {},
   "source": [
    "## Split into train & test"
   ]
  },
  {
   "cell_type": "code",
   "execution_count": 16,
   "id": "f795251d-5379-4f24-b416-2875a6437492",
   "metadata": {},
   "outputs": [
    {
     "data": {
      "text/plain": [
       "(50960, 5663)"
      ]
     },
     "execution_count": 16,
     "metadata": {},
     "output_type": "execute_result"
    }
   ],
   "source": [
    "from sklearn.model_selection import train_test_split\n",
    "\n",
    "prior_data_path = 'data/round1/dry-lab/prior/subtilisin'\n",
    "\n",
    "# split data and save\n",
    "df_train, df_test = train_test_split(subtilisin_filtered, test_size=0.1)\n",
    "df_train.to_csv(prior_data_path+'-train.csv', index=False)\n",
    "df_test.to_csv(prior_data_path+'-test.csv', index=False)\n",
    "len(df_train), len(df_test)"
   ]
  },
  {
   "cell_type": "code",
   "execution_count": null,
   "id": "cb8dedf6-6c0f-4f1f-830c-e64dd493ce55",
   "metadata": {},
   "outputs": [],
   "source": []
  }
 ],
 "metadata": {
  "kernelspec": {
   "display_name": "prot-gen-env",
   "language": "python",
   "name": "python3"
  },
  "language_info": {
   "codemirror_mode": {
    "name": "ipython",
    "version": 3
   },
   "file_extension": ".py",
   "mimetype": "text/x-python",
   "name": "python",
   "nbconvert_exporter": "python",
   "pygments_lexer": "ipython3",
   "version": "3.10.14"
  },
  "toc-autonumbering": true,
  "toc-showmarkdowntxt": false
 },
 "nbformat": 4,
 "nbformat_minor": 5
}
